{
 "cells": [
  {
   "cell_type": "raw",
   "id": "8e64569c-9838-4cc8-93c5-c57d92004b49",
   "metadata": {},
   "source": [
    "Checkpoint Objective\n",
    "In this exercise, you will expand on the basic calculator program by adding more advanced mathematical operations and error handling using object-oriented programming.\n",
    "\n",
    "Instructions\n",
    "Create a new file called \"calculator_2.0.py\"\n",
    "Create a class called \"Calculator\" that contains the following:\n",
    "A dictionary attribute to store the available mathematical operations and their corresponding functions\n",
    "A method called \"init\" that initializes the dictionary with the basic mathematical operations (+, -, *, /) and corresponding functions\n",
    "A method called \"add_operation\" that takes in two arguments: the operation symbol and the corresponding function. This method should add the new operation and function to the dictionary.\n",
    "A method called \"calculate\" that takes in three arguments: the first number, the operation symbol, and the second number. This method should use the dictionary to determine the appropriate function to perform the calculation. It should also include error handling to check if the operation symbol is valid and if the input values are numbers. If an error is encountered, the method should print an error message and raise an exception.\n",
    "Create separate functions for the advanced mathematical operations (exponentiation, square root, logarithm) and use the \"add_operation\" method to add them to the calculator's dictionary.\n",
    "In the main program, create an instance of the Calculator class, and use a while loop that allows the user to continue performing calculations until they choose to exit.\n",
    "Use the input() function to get input from the user for the numbers and operation symbol.Use the math library for advanced mathematical operations\n",
    "Use the isinstance() function to check if the input is a number.\n",
    "numhy"
   ]
  },
  {
   "cell_type": "code",
   "execution_count": 1,
   "id": "a7d51d07-8dcf-416b-9de9-d97016ddf289",
   "metadata": {},
   "outputs": [],
   "source": [
    "import math as ma"
   ]
  },
  {
   "cell_type": "code",
   "execution_count": 12,
   "id": "85cc7dec-49f4-4e2b-b2d1-f70733cbbf90",
   "metadata": {},
   "outputs": [
    {
     "name": "stdin",
     "output_type": "stream",
     "text": [
      "Enter first number:  1\n",
      "Input the operation symbol:  /\n",
      "Enter second number:  2\n"
     ]
    },
    {
     "name": "stdout",
     "output_type": "stream",
     "text": [
      "Result: 0.5\n"
     ]
    },
    {
     "name": "stdin",
     "output_type": "stream",
     "text": [
      "Do you want to perform another calculation? (yes/no):  no\n"
     ]
    }
   ],
   "source": [
    "class Calculator:\n",
    "    # operations = {\n",
    "    #     \"+\" = add\n",
    "    #     \"-\" = subtract\n",
    "    #     \"*\" = multiply\n",
    "    #     \"/\" = divide\n",
    "    #             }\n",
    "\n",
    "    def __init__(self):\n",
    "        self.operations = {\n",
    "            \"+\" : lambda x, y: x + y,\n",
    "            \"-\" : lambda x, y: x - y,\n",
    "            \"*\" : lambda x, y: x * y,\n",
    "            \"/\" : lambda x, y: x / y if y != 0 else \"cannot divide by zero\"\n",
    "        }\n",
    "\n",
    "    def add_operation(self,symbol,function):\n",
    "         self.operations[symbol] = function\n",
    "\n",
    "    def calculate(self,num1:float,symbol,num2:float):\n",
    "        if symbol in self.operations:\n",
    "            return self.operations[symbol](num1, num2)\n",
    "        else:\n",
    "            print(\"Enter a valid operation symbol\")\n",
    "\n",
    "    def exponent(self,x,y):\n",
    "        return x**y\n",
    "            \n",
    "    def square_root(self,x):\n",
    "        return ma.sqrt(x)\n",
    "\n",
    "    def logarithm(self,x,base):\n",
    "        return ma.log(x,base)\n",
    "\n",
    "My_calculator = Calculator()\n",
    "\n",
    "# Add advanced mathematical operations to the calculator\n",
    "My_calculator.add_operation('**', My_calculator.exponent)\n",
    "My_calculator.add_operation('sqrt', My_calculator.square_root)\n",
    "My_calculator.add_operation('log', My_calculator.logarithm)\n",
    "\n",
    "\n",
    "while True:\n",
    "    try:\n",
    "        num1 = float(input(\"Enter first number: \"))\n",
    "        operation_symbol = input(\"Input the operation symbol: \")\n",
    "\n",
    "        if operation_symbol in My_calculator.operations:\n",
    "            num2 = float(input(\"Enter second number: \"))\n",
    "            answer = My_calculator.calculate(num1,operation_symbol,num2)\n",
    "            print(f\"Result: {answer}\")\n",
    "        else:\n",
    "            print(\"Enter valid operation symbol\")\n",
    "            continue\n",
    "\n",
    "        user_choice = input(\"Do you want to perform another calculation? (yes/no): \")\n",
    "    \n",
    "        if user_choice.lower() != \"yes\":\n",
    "            break\n",
    "            \n",
    "    except ValueError:\n",
    "        print(\"Invalid input. Please enter valid numbers.\")\n",
    "    except Exception as e:\n",
    "        print(f\"An error occurred: {e}\")"
   ]
  },
  {
   "cell_type": "code",
   "execution_count": null,
   "id": "b0ac6b15-12d9-4b6b-ab02-5d8badfbb8c2",
   "metadata": {},
   "outputs": [],
   "source": []
  }
 ],
 "metadata": {
  "kernelspec": {
   "display_name": "Python 3 (ipykernel)",
   "language": "python",
   "name": "python3"
  },
  "language_info": {
   "codemirror_mode": {
    "name": "ipython",
    "version": 3
   },
   "file_extension": ".py",
   "mimetype": "text/x-python",
   "name": "python",
   "nbconvert_exporter": "python",
   "pygments_lexer": "ipython3",
   "version": "3.8.18"
  }
 },
 "nbformat": 4,
 "nbformat_minor": 5
}
