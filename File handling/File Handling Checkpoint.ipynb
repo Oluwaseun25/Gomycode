{
 "cells": [
  {
   "cell_type": "raw",
   "id": "d77c22d4-4d4a-45b6-9ba2-eb806c0ab796",
   "metadata": {},
   "source": [
    "Checkpoint Objective\n",
    "This dataset contains loan information, including loan ID, customer gender, location, region, total price for each loan etc.\n",
    "\n",
    "Instructions\n",
    "\n",
    "Begin by importing the necessary libraries, numpy.\n",
    "Use the open() function to open csv file and assign the result to a variable.\n",
    "Use the numpy array to perform some basic statistical analysis on the data, such as finding the mean, median, and standard deviation of the loan amounts.\n",
    "Note:\n",
    "\n",
    "Be sure to close the file after you have finished reading it in with the open() function.\n",
    "Use the delimiter parameter in the genfromtxt() function to specify that the values in the file are separated by commas.\n",
    "You can use the numpy functions mean(), median(), and std() to find the mean, median, and standard deviation of the loan amounts."
   ]
  },
  {
   "cell_type": "code",
   "execution_count": 1,
   "id": "ec671c64-ce84-47e8-ac34-37f46b008c62",
   "metadata": {},
   "outputs": [],
   "source": [
    "#numhy\n",
    "import numpy as np"
   ]
  },
  {
   "cell_type": "code",
   "execution_count": 2,
   "id": "c0c0fd95-3448-43ef-9179-8a608c9831d5",
   "metadata": {},
   "outputs": [],
   "source": [
    "file_obj = np.genfromtxt(\"Loan_prediction_dataset.csv\", delimiter = \",\")"
   ]
  },
  {
   "cell_type": "code",
   "execution_count": 24,
   "id": "3a4810cd-6a6d-4e2a-a8c7-3eb5d46ee04e",
   "metadata": {},
   "outputs": [],
   "source": [
    "# Open the CSV file\n",
    "with open('Loan_prediction_dataset.csv', 'r') as file:\n",
    "# Use numpy's genfromtxt() to read the CSV file\n",
    "    data = np.genfromtxt(file, delimiter=',')\n",
    "\n",
    "# File is automatically closed when  the 'with' block is exi"
   ]
  },
  {
   "cell_type": "code",
   "execution_count": 25,
   "id": "7293bef4-772f-4804-a911-cdbf01f8356e",
   "metadata": {},
   "outputs": [
    {
     "data": {
      "text/plain": [
       "array([ nan,  nan, 128.,  66., 120., 141., 267.,  95., 158., 168., 349.,\n",
       "        70., 109., 200., 114.,  17., 125., 100.,  76., 133., 115., 104.,\n",
       "       315., 116., 112., 151., 191., 122., 110.,  35., 120., 201.,  74.,\n",
       "       106., 114., 320.,  nan, 100., 144., 184., 110.,  80.,  47.,  75.,\n",
       "       134.,  96.,  88.,  44., 144., 120., 144., 100., 120., 112., 134.,\n",
       "       286.,  97.,  96., 135., 180., 144., 120.,  99., 165.,  nan, 116.,\n",
       "       258., 126., 312., 125., 136., 172.,  97.,  81.,  95., 187., 113.,\n",
       "       176., 110., 180., 130., 111.,  nan, 167., 265.,  50., 136.,  99.,\n",
       "       104., 210., 175., 131., 188.,  81., 122.,  25.,  nan, 137.,  50.,\n",
       "       115., 131., 133., 151.,  nan,  nan, 160., 100., 225., 120., 216.,\n",
       "        94., 136., 139., 152.,  nan, 118., 185., 154.,  85., 175., 259.,\n",
       "       180.,  44., 137.,  81., 194.,  93., 370.,  nan, 160., 182., 650.,\n",
       "        74.,  70.,  25., 102., 290.,  84.,  88., 242., 129., 185., 168.,\n",
       "       175., 122., 187., 100.,  70.,  30., 225., 125., 118., 152., 244.,\n",
       "       113.,  50., 600., 160., 187., 120., 255.,  98., 275., 121., 158.,\n",
       "        75., 182., 112., 129.,  63., 200.,  95., 700.,  81., 187.,  87.,\n",
       "       116., 101., 495., 116., 102., 180.,  67.,  73., 260., 108., 120.,\n",
       "        66.,  58., 168., 188.,  48., 164., 160.,  76., 120., 170., 187.,\n",
       "       120., 113.,  83.,  90., 166.,  nan, 135., 124., 120.,  80.,  55.,\n",
       "        59., 127., 214., 128., 240., 130., 137., 100., 135., 131.,  72.,\n",
       "       127.,  60., 116., 144., 175., 128., 170., 138., 210., 158., 200.,\n",
       "       104.,  42., 120., 280., 140., 170., 255., 122., 112.,  96., 120.,\n",
       "       140., 155., 108., 123., 120., 112., 137., 123.,  90., 201., 138.,\n",
       "       104., 279., 192., 255., 115.,  94., 304., 128., 330., 134., 155.,\n",
       "       120., 128., 151., 150., 160., 135.,  90.,  30., 136., 126., 150.,\n",
       "        90., 115., 207.,  80., 436., 124., 158., 112.,  78.,  54.,  nan,\n",
       "        89.,  99., 120., 115., 187., 139., 127., 134., 143., 172., 110.,\n",
       "       200., 135., 151., 113.,  93., 105., 132.,  96., 140.,  nan, 135.,\n",
       "       104., 480., 185.,  84., 111.,  56., 144., 159., 111., 120.,  88.,\n",
       "       112., 155., 115., 124.,  nan, 132., 300., 376., 130., 184., 110.,\n",
       "        67., 117.,  98.,  71., 490., 182.,  70., 160., 176.,  nan,  71.,\n",
       "       173.,  46., 158.,  74., 125., 160., 152., 126., 259., 187., 228.,\n",
       "       308.,  95., 105., 130., 116., 165.,  67., 100., 200.,  81., 236.,\n",
       "       130.,  95., 141., 133.,  96., 124., 175., 570.,  55., 155., 380.,\n",
       "       111., 110., 120., 130., 130.,  71., 130., 128., 296., 156., 128.,\n",
       "       100., 113., 132.,  nan, 136., 125., 185., 275., 120., 113., 113.,\n",
       "       135.,  71.,  95., 109., 103.,  45.,  65., 103.,  53., 194., 115.,\n",
       "       115.,  66., 152., 360.,  62., 160., 218., 110., 178.,  60., 160.,\n",
       "       239., 112., 138., 138.,  80., 100., 110.,  96., 121.,  81., 133.,\n",
       "        87.,  60., 150., 105., 405., 143., 100.,  nan,  50.,  nan, 187.,\n",
       "       138., 187., 180., 148., 152., 175., 130., 110.,  55., 150., 190.,\n",
       "       125.,  60., 149.,  90.,  84.,  96., 118., 173., 136., 160., 160.,\n",
       "       128., 153., 132.,  98., 140.,  70., 110.,  98., 110., 162., 113.,\n",
       "       100.,  93., 162., 150., 230., 132.,  86.,  nan, 154., 113., 128.,\n",
       "       234., 246., 131.,  80., 500., 160.,  75.,  96., 186., 110., 225.,\n",
       "       119., 105., 107., 111.,  95., 209., 113., 100., 208., 138., 124.,\n",
       "       243., 480.,  96., 188.,  40., 100., 250., 148.,  70., 311., 150.,\n",
       "       113., 123., 185.,  95.,  45.,  55., 100., 480.,  nan, 400., 110.,\n",
       "       161.,  94., 130., 216., 100., 110., 196., 125., 126., 324., 107.,\n",
       "        66., 157., 140.,  99.,  95., 128., 102., 155.,  80., 145., 103.,\n",
       "       110.,  nan,  nan, 158., 181., 132.,  26.,  84., 260., 162., 182.,\n",
       "       108., 600., 211., 132., 258., 120.,  70., 123.,   9., 104., 186.,\n",
       "       165., 275., 187., 150., 108., 136., 110., 107., 161., 205.,  90.,\n",
       "        36.,  61., 146., 172., 104.,  70.,  94., 106.,  56., 205., 292.,\n",
       "       142., 260., 110., 187.,  88., 180., 192., 350., 155., 128., 172.,\n",
       "       496.,  nan, 173., 157., 108.,  71.,  40., 253., 187., 133.])"
      ]
     },
     "execution_count": 25,
     "metadata": {},
     "output_type": "execute_result"
    }
   ],
   "source": [
    "#Extracting the loan amounts\n",
    "loan_amount = data[:,8]\n",
    "\n",
    "loan_amount"
   ]
  },
  {
   "cell_type": "code",
   "execution_count": 33,
   "id": "403821ba-c8a4-4579-abc3-bf4caf6b0707",
   "metadata": {},
   "outputs": [],
   "source": [
    "# Remove missing values (nan) from the loan amounts\n",
    "loan_amount = loan_amount[~np.isnan(loan_amount)]"
   ]
  },
  {
   "cell_type": "code",
   "execution_count": 34,
   "id": "6ef7d556-b335-419c-b67c-c0c7cc17aa75",
   "metadata": {},
   "outputs": [
    {
     "name": "stdout",
     "output_type": "stream",
     "text": [
      "Mean Loan Amount: 146.41216216216216\n",
      "Median Loan Amount: 128.0\n",
      "Standard Deviation of Loan Amount: 85.51500809120331\n"
     ]
    }
   ],
   "source": [
    "if len(loan_amount) > 0 :\n",
    "    #mean()\n",
    "    mean_loan_amount = np.mean(loan_amount)\n",
    "    #median()\n",
    "    median_loan_amount = np.median(loan_amount)\n",
    "    #std()\n",
    "    std_loan_amount = np.std(loan_amount)\n",
    "    \n",
    "    print(f\"Mean Loan Amount: {mean_loan_amount}\")\n",
    "    print(f\"Median Loan Amount: {median_loan_amount}\")\n",
    "    print(f\"Standard Deviation of Loan Amount: {std_loan_amount}\")\n",
    "    \n",
    "else:\n",
    "    print(\"No valid loan amounts found in the dataset.\")\n"
   ]
  },
  {
   "cell_type": "code",
   "execution_count": null,
   "id": "207b5422-6636-45c6-aa43-21470cf57b0f",
   "metadata": {},
   "outputs": [],
   "source": []
  }
 ],
 "metadata": {
  "kernelspec": {
   "display_name": "Python 3 (ipykernel)",
   "language": "python",
   "name": "python3"
  },
  "language_info": {
   "codemirror_mode": {
    "name": "ipython",
    "version": 3
   },
   "file_extension": ".py",
   "mimetype": "text/x-python",
   "name": "python",
   "nbconvert_exporter": "python",
   "pygments_lexer": "ipython3",
   "version": "3.11.5"
  }
 },
 "nbformat": 4,
 "nbformat_minor": 5
}
