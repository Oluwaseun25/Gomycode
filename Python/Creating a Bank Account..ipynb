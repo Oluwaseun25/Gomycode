{
 "cells": [
  {
   "cell_type": "raw",
   "id": "c9f93118-c635-4b37-98a4-c0f509a09699",
   "metadata": {},
   "source": [
    "Checkpoint Objective\n",
    "Create a class called \"Account\" that has the following attributes:\n",
    "\n",
    "account_number (string)\n",
    "account_balance (float)\n",
    "account_holder (string)\n",
    "The class should have the following methods:\n",
    "\n",
    "deposit(amount: float) - This method should add the amount passed as an argument to the account balance.\n",
    "withdraw(amount: float) - This method should subtract the amount passed as an argument from the account balance, but only if the account balance is greater than the amount being withdrawn.\n",
    "check_balance() - This method should return the current account balance.\n",
    "\n",
    "Instructions\n",
    "Create a new file called \"bank_account.py\"\n",
    "Define the Account class and its attributes as specified above.\n",
    "Define the deposit() method. It should take in one argument, the amount to be deposited, and add it to the account balance.\n",
    "Define the withdraw() method. It should take in one argument, the amount to be withdrawn, and subtract it from the account balance. The method should only execute the withdrawal if the account balance is greater than or equal to the amount to be withdrawn.\n",
    "Define the check_balance() method. It should return the current account balance.\n",
    "Create an instance of the Account class, and assign it to a variable called \"my_account\".\n",
    "Use the methods of the class to deposit and withdraw money from the account, and check the account balance.\n",
    "Test the program by creating multiple instances of the class and performing different transactions on them."
   ]
  },
  {
   "cell_type": "code",
   "execution_count": 56,
   "id": "1b28a6f9-303e-4076-a01f-4dbe891165e9",
   "metadata": {},
   "outputs": [],
   "source": [
    "class Account:\n",
    "    \n",
    "    def __init__(self, account_number: str, account_balance, account_holder):\n",
    "        self.account_number = account_number\n",
    "        self.account_balance = account_balance\n",
    "        self.account_holder = account_holder\n",
    "\n",
    "    def deposit(self,amount:float):\n",
    "        self.account_balance += amount\n",
    "\n",
    "    def withdraw(self,amount:float):\n",
    "        if self.account_balance > amount:\n",
    "            self.account_balance -= amount\n",
    "        else:\n",
    "            print(\"insufficient funds\")\n",
    "\n",
    "    def check_balance(self):\n",
    "        return self.account_balance\n"
   ]
  },
  {
   "cell_type": "code",
   "execution_count": 49,
   "id": "e290a1be-5fac-4c3f-bb53-22a9e482a7f1",
   "metadata": {},
   "outputs": [],
   "source": [
    "my_account = Account(account_number=\"12345\", account_balance=1000.0, account_holder=\"John Doe\")"
   ]
  },
  {
   "cell_type": "code",
   "execution_count": 51,
   "id": "cc82a487-9ab7-461b-9b48-5f0b5c108e80",
   "metadata": {},
   "outputs": [
    {
     "name": "stdout",
     "output_type": "stream",
     "text": [
      "After deposit, balance: 2000.0\n"
     ]
    }
   ],
   "source": [
    "# Test the methods\n",
    "my_account.deposit(500.0)\n",
    "print(\"After deposit, balance:\", my_account.check_balance())"
   ]
  },
  {
   "cell_type": "code",
   "execution_count": 44,
   "id": "0f2d9e1c-1f57-4b01-a8e0-35d20d657661",
   "metadata": {},
   "outputs": [
    {
     "name": "stdout",
     "output_type": "stream",
     "text": [
      "After withdrawal, balance: 1800.0\n"
     ]
    }
   ],
   "source": [
    "my_account.withdraw(200.0)\n",
    "print(\"After withdrawal, balance:\", my_account.check_balance())"
   ]
  },
  {
   "cell_type": "code",
   "execution_count": 45,
   "id": "02356fef-351f-4037-9dcf-a3dad75ccdb5",
   "metadata": {},
   "outputs": [
    {
     "data": {
      "text/plain": [
       "1800.0"
      ]
     },
     "execution_count": 45,
     "metadata": {},
     "output_type": "execute_result"
    }
   ],
   "source": [
    "my_account.check_balance()"
   ]
  },
  {
   "cell_type": "code",
   "execution_count": 46,
   "id": "c359631d-50d4-4463-b853-82c0ac0626cc",
   "metadata": {},
   "outputs": [
    {
     "name": "stdout",
     "output_type": "stream",
     "text": [
      "insufficient funds\n"
     ]
    }
   ],
   "source": [
    "# Testing insufficient funds case\n",
    "my_account.withdraw(100000000)"
   ]
  }
 ],
 "metadata": {
  "kernelspec": {
   "display_name": "Python 3 (ipykernel)",
   "language": "python",
   "name": "python3"
  },
  "language_info": {
   "codemirror_mode": {
    "name": "ipython",
    "version": 3
   },
   "file_extension": ".py",
   "mimetype": "text/x-python",
   "name": "python",
   "nbconvert_exporter": "python",
   "pygments_lexer": "ipython3",
   "version": "3.11.5"
  }
 },
 "nbformat": 4,
 "nbformat_minor": 5
}
