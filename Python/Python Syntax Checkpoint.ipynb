{
 "cells": [
  {
   "cell_type": "markdown",
   "id": "553f2f21",
   "metadata": {},
   "source": [
    "# Checkpoint Objective\n",
    "Congratulations, you've got a job at Python Pizza. Your first job is to build an automatic pizza order program. Based on a user's order, work out their final bill.\n",
    "\n",
    " ``` Small Pizza: $15 ``` ``` \n",
    "\n",
    "``` Medium Pizza: $20 ``` \n",
    "\n",
    "``` Large Pizza: $25 ``` \n",
    "\n",
    "If they want to add pepperoni :\n",
    "\n",
    "``` Pepperoni for Small Pizza: +$2 ``` \n",
    "\n",
    "``` Pepperoni for Medium or Large Pizza: +$3 ```\n",
    "\n",
    "If they want cheese :\n",
    "\n",
    " ``` Extra cheese for any size pizza: + $1 ```"
   ]
  },
  {
   "cell_type": "markdown",
   "id": "a6d9be11",
   "metadata": {},
   "source": [
    "# Instructions\n",
    "Open a new file in your Python development environment or IDE.\n",
    "Begin by typing the line 'Welcome to Python Pizza Deliveries' which will display a welcome message when the code is run.\n",
    "Add a line that prompts the user for the size of the pizza they want using the input() function and stores the user's input in a variable named 'size'.\n",
    "Add a line that prompts the user if they want pepperoni on their pizza using the input() function and stores the user's input in a variable named 'add_pepperoni'.\n",
    "Add a line that prompts the user if they want extra cheese on their pizza using the input() function and stores the user's input in a variable named 'extra_cheese'.\n",
    "Check your code for any syntax errors or mistakes.\n",
    "Run the code and test it by providing inputs for size, pepperoni, and extra cheese.\n",
    "Example Input\n",
    "\n",
    "size = \"L\"\n",
    "\n",
    "add_pepperoni = \"Y\"\n",
    "\n",
    "extra_cheese = \"N\"\n",
    "\n",
    "Example Output\n",
    "\n",
    "Your final bill is: $28.\n",
    "\n",
    "When you hit **run**, this is what should happen"
   ]
  },
  {
   "cell_type": "code",
   "execution_count": 4,
   "id": "3858a532",
   "metadata": {},
   "outputs": [
    {
     "name": "stdout",
     "output_type": "stream",
     "text": [
      "Welcome to Python Pizza Deliveries\n",
      "What size of pizza do you want? S, M, or L: S\n",
      "Do you want Pepperoni on your pizza? Y or N: Y\n",
      "Do you want extra cheese on your pizza? Y or N: Y\n",
      "Your final bill is: $18\n"
     ]
    }
   ],
   "source": [
    "print(\"Welcome to Python Pizza Deliveries\")\n",
    "\n",
    "# Get user input for pizza size\n",
    "size = input(\"What size of pizza do you want? S, M, or L: \").upper()\n",
    "\n",
    "# Get user input for pepperoni\n",
    "add_pepperoni = input(\"Do you want Pepperoni on your pizza? Y or N: \").upper()\n",
    "\n",
    "# Get user input for extra cheese\n",
    "extra_cheese = input(\"Do you want extra cheese on your pizza? Y or N: \").upper()\n",
    "\n",
    "# Set pizza prices\n",
    "small_pizza_price = 15\n",
    "medium_pizza_price = 20\n",
    "large_pizza_price = 25\n",
    "pepperoni_small_price = 2\n",
    "pepperoni_medium_or_large_price = 3\n",
    "extra_cheese_price = 1\n",
    "\n",
    "# Calculate total price\n",
    "total_price = 0\n",
    "\n",
    "# Size conditional\n",
    "if size == \"S\":\n",
    "    total_price += small_pizza_price\n",
    "elif size == \"M\":\n",
    "    total_price += medium_pizza_price\n",
    "elif size == \"L\":\n",
    "    total_price += large_pizza_price\n",
    "else:\n",
    "    print(\"Invalid input: Choose between S, M, L\")\n",
    "\n",
    "# Pepperoni conditional\n",
    "if add_pepperoni == \"Y\":\n",
    "    if size == \"S\":\n",
    "        total_price += pepperoni_small_price\n",
    "    elif size == \"M\" or size == \"L\":\n",
    "        total_price += pepperoni_medium_or_large_price\n",
    "\n",
    "# Cheese conditional\n",
    "if extra_cheese == \"Y\":\n",
    "    total_price += extra_cheese_price\n",
    "\n",
    "# Display the final bill\n",
    "print(f\"Your final bill is: ${total_price}\")\n"
   ]
  },
  {
   "cell_type": "code",
   "execution_count": null,
   "id": "883ccf1a",
   "metadata": {},
   "outputs": [],
   "source": []
  }
 ],
 "metadata": {
  "kernelspec": {
   "display_name": "Python 3 (ipykernel)",
   "language": "python",
   "name": "python3"
  },
  "language_info": {
   "codemirror_mode": {
    "name": "ipython",
    "version": 3
   },
   "file_extension": ".py",
   "mimetype": "text/x-python",
   "name": "python",
   "nbconvert_exporter": "python",
   "pygments_lexer": "ipython3",
   "version": "3.11.5"
  }
 },
 "nbformat": 4,
 "nbformat_minor": 5
}
