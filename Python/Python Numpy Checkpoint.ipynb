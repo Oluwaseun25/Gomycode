{
 "cells": [
  {
   "cell_type": "raw",
   "id": "c83d68fe-b79e-409c-99c2-e14d6dd0e619",
   "metadata": {},
   "source": [
    "Checkpoint Objective\n",
    "Create a numpy array called \"grades\" that contains the following grades: [85, 90, 88, 92, 95, 80, 75, 98, 89, 83]"
   ]
  },
  {
   "cell_type": "raw",
   "id": "e54a167e-0fd2-4e48-be5c-ad62535ff348",
   "metadata": {},
   "source": [
    "Instructions\n",
    "Create a new file called \"grades_analysis.py\"\n",
    "Import the numpy library and create the \"grades\" array as specified above.\n",
    "Use numpy functions to calculate the mean, median, and standard deviation of the grades.\n",
    "Use numpy function to find the maximum and minimum of the grades.\n",
    "Use numpy function to sort the grades in ascending order.\n",
    "Use numpy function to find the index of the highest grade in the array.\n",
    "Use numpy function to count the number of students who scored above 90.\n",
    "Use numpy function to calculate the percentage of students who scored above 90.\n",
    "Use numpy function to calculate the percentage of students who scored below 75.\n",
    "Use numpy function to extract all the grades above 90 and put them in a new array called \"high_performers\".\n",
    "Create a new array called \"passing_grades\" that contains all the grades above 75.\n",
    "Print the result of all the above steps.\n",
    "Note:\n",
    "\n",
    "to calculate percentage use numpy.mean(grades > 90) * 100\n",
    "to extract the grades above 90 use grades[grades > 90]\n",
    "to extract the grades above 75 use grades[grades > 75]\n",
    "You can use other numpy functions as well to analyze the data as you want. The above steps are just examples of what can be done."
   ]
  },
  {
   "cell_type": "code",
   "execution_count": 2,
   "id": "61490eea-f5c3-4be3-8e7a-1dcac71838e7",
   "metadata": {},
   "outputs": [],
   "source": [
    "import numpy as np\n",
    "\n",
    "grades = np.array([85,90,88,92,95,80,75,98,89,83])"
   ]
  },
  {
   "cell_type": "code",
   "execution_count": 33,
   "id": "ff2bb659-b78c-4434-8d88-1ffa873826ed",
   "metadata": {},
   "outputs": [],
   "source": [
    "#mean\n",
    "mean_grade = np.mean(grades)"
   ]
  },
  {
   "cell_type": "code",
   "execution_count": 34,
   "id": "4ab4e374-5cc5-497b-a272-b235824f5ff4",
   "metadata": {},
   "outputs": [],
   "source": [
    "#median\n",
    "median_grade = np.median(grades)"
   ]
  },
  {
   "cell_type": "code",
   "execution_count": 35,
   "id": "f4e995ab-7d84-4091-98a7-df9274d8b35f",
   "metadata": {},
   "outputs": [],
   "source": [
    "#standard_deviation\n",
    "standard_deviation = np.std(grades)"
   ]
  },
  {
   "cell_type": "code",
   "execution_count": 51,
   "id": "ee8d6062-85d7-425f-83f3-fdd60e690ea2",
   "metadata": {},
   "outputs": [],
   "source": [
    "#min and max grades\n",
    "min_grade = np.amin(grades)\n",
    "\n",
    "max_grade = np.amax(grades)"
   ]
  },
  {
   "cell_type": "code",
   "execution_count": 52,
   "id": "8da66706-d02a-4051-bcc0-906bb974d4b9",
   "metadata": {},
   "outputs": [
    {
     "data": {
      "text/plain": [
       "98"
      ]
     },
     "execution_count": 52,
     "metadata": {},
     "output_type": "execute_result"
    }
   ],
   "source": [
    "max_grade"
   ]
  },
  {
   "cell_type": "code",
   "execution_count": 53,
   "id": "405d2eb1-9360-401d-875d-5cfd7a3d9a6d",
   "metadata": {},
   "outputs": [],
   "source": [
    "#sort grades in accending order\n",
    "sorted_grade = np.sort(grades)\n",
    "\n",
    "#find the index of the highest grade in the array.\n",
    "index_of_highest_grade = np.argmax(grades)"
   ]
  },
  {
   "cell_type": "code",
   "execution_count": 39,
   "id": "87f00f98-748c-4f31-9681-114b7925cc28",
   "metadata": {},
   "outputs": [
    {
     "data": {
      "text/plain": [
       "7"
      ]
     },
     "execution_count": 39,
     "metadata": {},
     "output_type": "execute_result"
    }
   ],
   "source": [
    "index_of_highest_grade"
   ]
  },
  {
   "cell_type": "code",
   "execution_count": 40,
   "id": "0165c456-b882-478d-a7f2-d183729d7c1e",
   "metadata": {},
   "outputs": [
    {
     "data": {
      "text/plain": [
       "array([75, 80, 83, 85, 88, 89, 90, 92, 95, 98])"
      ]
     },
     "execution_count": 40,
     "metadata": {},
     "output_type": "execute_result"
    }
   ],
   "source": [
    "sorted_grades_accending"
   ]
  },
  {
   "cell_type": "code",
   "execution_count": 41,
   "id": "774a4485-7369-4b65-a92a-4f206c3394fb",
   "metadata": {},
   "outputs": [
    {
     "name": "stdout",
     "output_type": "stream",
     "text": [
      "Number of students who scored above 90: 3\n"
     ]
    }
   ],
   "source": [
    "#Use numpy function to count the number of students who scored above 90.\n",
    "\n",
    "# Count the number of students who scored above 90\n",
    "above_90_count = len(np.where(grades > 90)[0])\n",
    "\n",
    "print(f\"Number of students who scored above 90: {above_90_count}\")"
   ]
  },
  {
   "cell_type": "code",
   "execution_count": 42,
   "id": "cbf65c0e-6982-4922-93a0-facf60427124",
   "metadata": {},
   "outputs": [],
   "source": [
    "#numhy\n",
    "#Use numpy function to calculate the percentage of students who scored above 90.\n",
    "Total_students = len(grades)\n",
    "\n",
    "percentage_above_90 = (above_90_count / Total_students ) * 100"
   ]
  },
  {
   "cell_type": "code",
   "execution_count": 43,
   "id": "7fefa51a-c8ea-4ce7-9c22-c2973dc7dddc",
   "metadata": {},
   "outputs": [
    {
     "data": {
      "text/plain": [
       "30.0"
      ]
     },
     "execution_count": 43,
     "metadata": {},
     "output_type": "execute_result"
    }
   ],
   "source": [
    "percentage_above_90"
   ]
  },
  {
   "cell_type": "code",
   "execution_count": 44,
   "id": "943e1627-3f4a-44b1-aa54-7fcbdcaf2b65",
   "metadata": {},
   "outputs": [],
   "source": [
    "#Use numpy function to calculate the percentage of students who scored below 75.\n",
    "#sum() len(where), count_nonzero\n",
    "below_75_count = np.count_nonzero(grades < 75)\n",
    "\n",
    "percentage_below_75 = (below_75_count / Total_students) * 100"
   ]
  },
  {
   "cell_type": "code",
   "execution_count": 45,
   "id": "9f4c85ce-8785-43fe-a695-b9669cc4daa9",
   "metadata": {},
   "outputs": [
    {
     "data": {
      "text/plain": [
       "0"
      ]
     },
     "execution_count": 45,
     "metadata": {},
     "output_type": "execute_result"
    }
   ],
   "source": [
    "below_75_count"
   ]
  },
  {
   "cell_type": "code",
   "execution_count": 46,
   "id": "f5913653-c24e-4d1d-adca-32a6b5c460e0",
   "metadata": {},
   "outputs": [],
   "source": [
    "#extract all the grades above 90 and put them in a new array called \"high_performers\".\n",
    "condition = grades > 90\n",
    "high_performers = np.extract(condition,grades)"
   ]
  },
  {
   "cell_type": "code",
   "execution_count": 47,
   "id": "b35f7750-7dde-426a-ad96-efefdf8f1bb4",
   "metadata": {},
   "outputs": [
    {
     "data": {
      "text/plain": [
       "array([92, 95, 98])"
      ]
     },
     "execution_count": 47,
     "metadata": {},
     "output_type": "execute_result"
    }
   ],
   "source": [
    "high_performers"
   ]
  },
  {
   "cell_type": "code",
   "execution_count": 3,
   "id": "59bf22e5-9b98-4b7b-8222-d439309a34e0",
   "metadata": {},
   "outputs": [
    {
     "data": {
      "text/plain": [
       "array([92, 95, 98])"
      ]
     },
     "execution_count": 3,
     "metadata": {},
     "output_type": "execute_result"
    }
   ],
   "source": [
    "high_performer = grades[grades > 90]\n",
    "high_performer"
   ]
  },
  {
   "cell_type": "code",
   "execution_count": 48,
   "id": "285b94b1-d6e7-42d4-9856-1a56bbd3eea1",
   "metadata": {},
   "outputs": [],
   "source": [
    "#Create a new array called \"passing_grades\" that contains all the grades above 75.\n",
    "\n",
    "passing_grades = grades[grades > 75]"
   ]
  },
  {
   "cell_type": "code",
   "execution_count": 49,
   "id": "749fef83-602e-43f5-a767-819d50a74ecc",
   "metadata": {},
   "outputs": [
    {
     "data": {
      "text/plain": [
       "array([85, 90, 88, 92, 95, 80, 98, 89, 83])"
      ]
     },
     "execution_count": 49,
     "metadata": {},
     "output_type": "execute_result"
    }
   ],
   "source": [
    "passing_grades"
   ]
  },
  {
   "cell_type": "code",
   "execution_count": 54,
   "id": "35512feb-312c-4f03-83cc-599923be89c2",
   "metadata": {},
   "outputs": [
    {
     "name": "stdout",
     "output_type": "stream",
     "text": [
      "Mean Grade: 87.5\n",
      "Median Grade: 88.5\n",
      "Standard Deviation: 6.591661399070799\n",
      "Maximum Grade: 98\n",
      "Minimum Grade: 75\n",
      "Sorted Grades: [75 80 83 85 88 89 90 92 95 98]\n",
      "Index of Highest Grade: 7\n",
      "Number of Students Above 90: 3\n",
      "Percentage of Students Above 90: 30.0 %\n",
      "Percentage of Students Below 75: 0.0 %\n",
      "High Performers: [92 95 98]\n",
      "Passing Grades: [85 90 88 92 95 80 98 89 83]\n"
     ]
    }
   ],
   "source": [
    "# Print the results\n",
    "print(\"Mean Grade:\", mean_grade)\n",
    "print(\"Median Grade:\", median_grade)\n",
    "print(\"Standard Deviation:\", standard_deviation)\n",
    "print(\"Maximum Grade:\", max_grade)\n",
    "print(\"Minimum Grade:\", min_grade)\n",
    "print(\"Sorted Grades:\", sorted_grade)\n",
    "print(\"Index of Highest Grade:\", index_of_highest_grade)\n",
    "print(\"Number of Students Above 90:\", above_90_count)\n",
    "print(\"Percentage of Students Above 90:\", percentage_above_90, \"%\")\n",
    "print(\"Percentage of Students Below 75:\", percentage_below_75, \"%\")\n",
    "print(\"High Performers:\", high_performers)\n",
    "print(\"Passing Grades:\", passing_grades)"
   ]
  },
  {
   "cell_type": "code",
   "execution_count": null,
   "id": "60a52d9f-ee8f-4a93-a9e1-8a6b1289c6b6",
   "metadata": {},
   "outputs": [],
   "source": []
  }
 ],
 "metadata": {
  "kernelspec": {
   "display_name": "Python 3 (ipykernel)",
   "language": "python",
   "name": "python3"
  },
  "language_info": {
   "codemirror_mode": {
    "name": "ipython",
    "version": 3
   },
   "file_extension": ".py",
   "mimetype": "text/x-python",
   "name": "python",
   "nbconvert_exporter": "python",
   "pygments_lexer": "ipython3",
   "version": "3.11.5"
  }
 },
 "nbformat": 4,
 "nbformat_minor": 5
}
